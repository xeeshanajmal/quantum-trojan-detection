{
 "cells": [
  {
   "cell_type": "code",
   "execution_count": 1,
   "id": "11ae2d42-1808-4be6-b167-cdb3faab7f61",
   "metadata": {},
   "outputs": [],
   "source": [
    "# ------------------------------------------------------------------------------\n",
    "# Universal Random Forest Evaluation for Quantum Circuit Trojan Detection\n",
    "# ------------------------------------------------------------------------------\n",
    "\n",
    "# This notebook trains and evaluates Random Forest (RF) models to classify \n",
    "# clean vs. malicious quantum circuits using structural and behavioral features.\n",
    "\n",
    "# Algorithms:\n",
    "# - Deutsch-Jozsa, QAOA, QFT, Shor, Grover, BV, and Universal combined\n",
    "\n",
    "# Features:\n",
    "# - Gate counts, depth, entropy, success rate, output variation, unique states, etc.\n",
    "\n",
    "# Outputs (for each algorithm):\n",
    "# - Classification report (Accuracy, ROC AUC)\n",
    "# - Confusion matrix and ROC curve plots\n",
    "# - Feature importance bar graph\n",
    "# - Summary table of all results (final)\n",
    "\n",
    "# Tools:\n",
    "# - scikit-learn (RandomForestClassifier, metrics, preprocessing)\n",
    "# - matplotlib + seaborn\n",
    "# - pandas\n",
    "\n",
    "# Author: Zeeshan Ajmal\n"
   ]
  },
  {
   "cell_type": "code",
   "execution_count": 2,
   "id": "7ba13564-5dc5-498e-96c4-af6f3113c75d",
   "metadata": {},
   "outputs": [],
   "source": [
    "import os\n",
    "import pandas as pd\n",
    "import numpy as np\n",
    "import matplotlib.pyplot as plt\n",
    "import seaborn as sns\n",
    "\n",
    "from sklearn.ensemble import RandomForestClassifier\n",
    "from sklearn.model_selection import train_test_split\n",
    "from sklearn.preprocessing import StandardScaler\n",
    "from sklearn.metrics import (\n",
    "    accuracy_score, classification_report,\n",
    "    confusion_matrix, roc_auc_score, roc_curve\n",
    ")\n",
    "\n",
    "sns.set(style=\"whitegrid\")\n"
   ]
  },
  {
   "cell_type": "code",
   "execution_count": 19,
   "id": "c0f1e613-3121-43e7-a6b6-c3b378afadc1",
   "metadata": {},
   "outputs": [
    {
     "name": "stdout",
     "output_type": "stream",
     "text": [
      "✅ Universal rf_dataset created: universal_dataset.csv\n"
     ]
    }
   ],
   "source": [
    "import pandas as pd\n",
    "import os\n",
    "\n",
    "# List of all your RF dataset CSVs\n",
    "csv_files = [\n",
    "    \"dj_full_dataset.csv\",\n",
    "    \"qaoa_full_dataset.csv\",\n",
    "    \"qft_full_dataset.csv\",\n",
    "    \"shor_full_dataset.csv\",\n",
    "    \"grover_full_dataset.csv\",\n",
    "    \"bv_full_dataset.csv\"\n",
    "]\n",
    "\n",
    "# Initialize empty list to collect aligned DataFrames\n",
    "aligned_dfs = []\n",
    "\n",
    "# First pass to collect all unique feature columns\n",
    "all_columns = set()\n",
    "for file in csv_files:\n",
    "    if os.path.exists(file):\n",
    "        df = pd.read_csv(file)\n",
    "        all_columns.update(df.columns)\n",
    "\n",
    "# Convert set to sorted list (optional: consistent order)\n",
    "all_columns = sorted(all_columns)\n",
    "\n",
    "# Second pass: align each dataframe to all columns\n",
    "for file in csv_files:\n",
    "    if os.path.exists(file):\n",
    "        df = pd.read_csv(file)\n",
    "        df = df.reindex(columns=all_columns, fill_value=0)  # fill missing cols with 0\n",
    "        aligned_dfs.append(df)\n",
    "\n",
    "# Combine into universal dataset\n",
    "universal_df = pd.concat(aligned_dfs, ignore_index=True)\n",
    "universal_df.to_csv(\"rf_universal_dataset.csv\", index=False)\n",
    "print(\"✅ Universal rf_dataset created: universal_dataset.csv\")\n"
   ]
  },
  {
   "cell_type": "code",
   "execution_count": 20,
   "id": "128cfb4d-e3ff-4876-9132-cbd6537ec98b",
   "metadata": {},
   "outputs": [],
   "source": [
    "def train_rf_on_dataset(csv_file, algo_name, save_folder):\n",
    "    os.makedirs(save_folder, exist_ok=True)\n",
    "\n",
    "    # Load dataset\n",
    "    df = pd.read_csv(csv_file)\n",
    "\n",
    "    # Convert columns and drop NaNs\n",
    "    for col in df.columns:\n",
    "        if col not in ['name', 'label']:\n",
    "            df[col] = pd.to_numeric(df[col], errors='coerce')\n",
    "    df.dropna(inplace=True)\n",
    "    df.reset_index(drop=True, inplace=True)\n",
    "\n",
    "    if df.empty:\n",
    "        print(f\"❌ Skipped {algo_name}: No usable data in {csv_file}\")\n",
    "        return \"Error\", \"Error\"\n",
    "\n",
    "    X = df.drop(columns=[\"name\", \"label\"])\n",
    "    y = df[\"label\"]\n",
    "\n",
    "    # Split safely\n",
    "    if len(df) < 4:\n",
    "        print(f\"⚠️ Not enough samples in {csv_file} to split (needs at least 4)\")\n",
    "        return \"Too Small\", \"Too Small\"\n",
    "\n",
    "    try:\n",
    "        X_train, X_test, y_train, y_test = train_test_split(\n",
    "            X, y, test_size=0.2, stratify=y, random_state=42\n",
    "        )\n",
    "    except ValueError as e:\n",
    "        print(f\"❌ Skipping {algo_name}: {str(e)}\")\n",
    "        return \"Split Error\", \"Split Error\"\n",
    "\n",
    "    # Feature scaling\n",
    "    scaler = StandardScaler()\n",
    "    X_train_scaled = scaler.fit_transform(X_train)\n",
    "    X_test_scaled = scaler.transform(X_test)\n",
    "\n",
    "    # Train Random Forest\n",
    "    model = RandomForestClassifier(n_estimators=100, random_state=42)\n",
    "    model.fit(X_train_scaled, y_train)\n",
    "    y_pred = model.predict(X_test_scaled)\n",
    "    y_proba = model.predict_proba(X_test_scaled)[:, 1]\n",
    "\n",
    "    # Metrics\n",
    "    acc = accuracy_score(y_test, y_pred)\n",
    "    roc = roc_auc_score(y_test, y_proba)\n",
    "    report = classification_report(y_test, y_pred, target_names=[\"Clean\", \"Malicious\"], zero_division=0)\n",
    "\n",
    "    # Save classification report\n",
    "    with open(f\"{save_folder}/classification_report.txt\", \"w\") as f:\n",
    "        f.write(f\"{algo_name} – Random Forest\\n\")\n",
    "        f.write(f\"Accuracy: {acc:.2f}\\nROC AUC: {roc:.2f}\\n\\n\")\n",
    "        f.write(report)\n",
    "\n",
    "    # Confusion Matrix\n",
    "    cm = confusion_matrix(y_test, y_pred)\n",
    "    plt.figure()\n",
    "    sns.heatmap(cm, annot=True, fmt='d', cmap='Blues',\n",
    "                xticklabels=[\"Clean\", \"Malicious\"],\n",
    "                yticklabels=[\"Clean\", \"Malicious\"])\n",
    "    plt.title(f\"Confusion Matrix – {algo_name}\")\n",
    "    plt.tight_layout()\n",
    "    plt.savefig(f\"{save_folder}/confusion_matrix.png\", dpi=300)\n",
    "    plt.close()\n",
    "\n",
    "    # ROC Curve\n",
    "    fpr, tpr, _ = roc_curve(y_test, y_proba)\n",
    "    plt.figure()\n",
    "    plt.plot(fpr, tpr, label=f\"AUC = {roc:.2f}\")\n",
    "    plt.plot([0, 1], [0, 1], linestyle='--', color='gray')\n",
    "    plt.xlabel(\"False Positive Rate\")\n",
    "    plt.ylabel(\"True Positive Rate\")\n",
    "    plt.title(f\"ROC Curve – {algo_name}\")\n",
    "    plt.legend()\n",
    "    plt.grid(True)\n",
    "    plt.tight_layout()\n",
    "    plt.savefig(f\"{save_folder}/roc_curve.png\", dpi=300)\n",
    "    plt.close()\n",
    "\n",
    "    # Feature Importance\n",
    "    importances = model.feature_importances_\n",
    "    feat_names = X.columns\n",
    "    feat_df = pd.DataFrame({\n",
    "        \"Feature\": feat_names,\n",
    "        \"Importance\": importances\n",
    "    }).sort_values(by=\"Importance\", ascending=False)\n",
    "\n",
    "    plt.figure(figsize=(8, 5))\n",
    "    sns.barplot(x=\"Importance\", y=\"Feature\", data=feat_df, palette=\"viridis\")\n",
    "    plt.title(f\"Feature Importance – {algo_name} (RF)\")\n",
    "    plt.tight_layout()\n",
    "    plt.savefig(f\"{save_folder}/feature_importance.png\", dpi=300)\n",
    "    plt.close()\n",
    "\n",
    "    # Save raw feature importance to txt\n",
    "    feat_df.to_string(buf=open(f\"{save_folder}/feature_importance.txt\", \"w\"))\n",
    "\n",
    "    print(f\"✅ {algo_name}: Accuracy={acc:.2f}, ROC AUC={roc:.2f}\")\n",
    "    return acc, roc\n"
   ]
  },
  {
   "cell_type": "code",
   "execution_count": 21,
   "id": "4001e570-f245-403f-9f0c-d46199a75636",
   "metadata": {},
   "outputs": [
    {
     "name": "stderr",
     "output_type": "stream",
     "text": [
      "C:\\Users\\zeesh\\AppData\\Local\\Temp\\ipykernel_460\\865135685.py:90: FutureWarning: \n",
      "\n",
      "Passing `palette` without assigning `hue` is deprecated and will be removed in v0.14.0. Assign the `y` variable to `hue` and set `legend=False` for the same effect.\n",
      "\n",
      "  sns.barplot(x=\"Importance\", y=\"Feature\", data=feat_df, palette=\"viridis\")\n"
     ]
    },
    {
     "name": "stdout",
     "output_type": "stream",
     "text": [
      "✅ Deutsch-Jozsa: Accuracy=0.75, ROC AUC=1.00\n"
     ]
    },
    {
     "name": "stderr",
     "output_type": "stream",
     "text": [
      "C:\\Users\\zeesh\\AppData\\Local\\Temp\\ipykernel_460\\865135685.py:90: FutureWarning: \n",
      "\n",
      "Passing `palette` without assigning `hue` is deprecated and will be removed in v0.14.0. Assign the `y` variable to `hue` and set `legend=False` for the same effect.\n",
      "\n",
      "  sns.barplot(x=\"Importance\", y=\"Feature\", data=feat_df, palette=\"viridis\")\n"
     ]
    },
    {
     "name": "stdout",
     "output_type": "stream",
     "text": [
      "✅ QAOA: Accuracy=1.00, ROC AUC=1.00\n"
     ]
    },
    {
     "name": "stderr",
     "output_type": "stream",
     "text": [
      "C:\\Users\\zeesh\\AppData\\Local\\Temp\\ipykernel_460\\865135685.py:90: FutureWarning: \n",
      "\n",
      "Passing `palette` without assigning `hue` is deprecated and will be removed in v0.14.0. Assign the `y` variable to `hue` and set `legend=False` for the same effect.\n",
      "\n",
      "  sns.barplot(x=\"Importance\", y=\"Feature\", data=feat_df, palette=\"viridis\")\n"
     ]
    },
    {
     "name": "stdout",
     "output_type": "stream",
     "text": [
      "✅ QFT: Accuracy=1.00, ROC AUC=1.00\n"
     ]
    },
    {
     "name": "stderr",
     "output_type": "stream",
     "text": [
      "C:\\Users\\zeesh\\AppData\\Local\\Temp\\ipykernel_460\\865135685.py:90: FutureWarning: \n",
      "\n",
      "Passing `palette` without assigning `hue` is deprecated and will be removed in v0.14.0. Assign the `y` variable to `hue` and set `legend=False` for the same effect.\n",
      "\n",
      "  sns.barplot(x=\"Importance\", y=\"Feature\", data=feat_df, palette=\"viridis\")\n"
     ]
    },
    {
     "name": "stdout",
     "output_type": "stream",
     "text": [
      "✅ Shor: Accuracy=1.00, ROC AUC=1.00\n"
     ]
    },
    {
     "name": "stderr",
     "output_type": "stream",
     "text": [
      "C:\\Users\\zeesh\\AppData\\Local\\Temp\\ipykernel_460\\865135685.py:90: FutureWarning: \n",
      "\n",
      "Passing `palette` without assigning `hue` is deprecated and will be removed in v0.14.0. Assign the `y` variable to `hue` and set `legend=False` for the same effect.\n",
      "\n",
      "  sns.barplot(x=\"Importance\", y=\"Feature\", data=feat_df, palette=\"viridis\")\n"
     ]
    },
    {
     "name": "stdout",
     "output_type": "stream",
     "text": [
      "✅ Grover: Accuracy=1.00, ROC AUC=1.00\n"
     ]
    },
    {
     "name": "stderr",
     "output_type": "stream",
     "text": [
      "C:\\Users\\zeesh\\AppData\\Local\\Temp\\ipykernel_460\\865135685.py:90: FutureWarning: \n",
      "\n",
      "Passing `palette` without assigning `hue` is deprecated and will be removed in v0.14.0. Assign the `y` variable to `hue` and set `legend=False` for the same effect.\n",
      "\n",
      "  sns.barplot(x=\"Importance\", y=\"Feature\", data=feat_df, palette=\"viridis\")\n"
     ]
    },
    {
     "name": "stdout",
     "output_type": "stream",
     "text": [
      "✅ BV: Accuracy=1.00, ROC AUC=1.00\n"
     ]
    },
    {
     "name": "stderr",
     "output_type": "stream",
     "text": [
      "C:\\Users\\zeesh\\AppData\\Local\\Temp\\ipykernel_460\\865135685.py:90: FutureWarning: \n",
      "\n",
      "Passing `palette` without assigning `hue` is deprecated and will be removed in v0.14.0. Assign the `y` variable to `hue` and set `legend=False` for the same effect.\n",
      "\n",
      "  sns.barplot(x=\"Importance\", y=\"Feature\", data=feat_df, palette=\"viridis\")\n"
     ]
    },
    {
     "name": "stdout",
     "output_type": "stream",
     "text": [
      "✅ Universal: Accuracy=0.96, ROC AUC=1.00\n"
     ]
    }
   ],
   "source": [
    "# --------------------------------------------------\n",
    "# Run RF Model on All Quantum Algorithm Datasets\n",
    "# --------------------------------------------------\n",
    "\n",
    "rf_datasets = {\n",
    "    \"dj_full_dataset.csv\": (\"Deutsch-Jozsa\", \"rf_outputs/dj\"),\n",
    "    \"qaoa_full_dataset.csv\": (\"QAOA\", \"rf_outputs/qaoa\"),\n",
    "    \"qft_full_dataset.csv\": (\"QFT\", \"rf_outputs/qft\"),\n",
    "    \"shor_full_dataset.csv\": (\"Shor\", \"rf_outputs/shor\"),\n",
    "    \"grover_full_dataset.csv\": (\"Grover\", \"rf_outputs/grover\"),\n",
    "    \"bv_full_dataset.csv\": (\"BV\", \"rf_outputs/bv\"),\n",
    "    \"rf_universal_dataset.csv\": (\"Universal\", \"rf_outputs/universal\")\n",
    "}\n",
    "\n",
    "rf_results = []\n",
    "\n",
    "for file, (label, folder) in rf_datasets.items():\n",
    "    if os.path.exists(file):\n",
    "        df_check = pd.read_csv(file)\n",
    "        if df_check.shape[0] == 0:\n",
    "            print(f\"⚠️ {label}: Dataset is empty. Skipping.\")\n",
    "            rf_results.append([label, \"Empty\", \"Empty\"])\n",
    "            continue\n",
    "\n",
    "        acc, roc = train_rf_on_dataset(file, label, folder)\n",
    "        rf_results.append([label, acc, roc])\n",
    "    else:\n",
    "        print(f\"❌ {label}: File not found.\")\n",
    "        rf_results.append([label, \"Missing\", \"Missing\"])\n"
   ]
  },
  {
   "cell_type": "code",
   "execution_count": null,
   "id": "80bad96e-a490-4c13-a25f-0619bfcf5b2a",
   "metadata": {},
   "outputs": [],
   "source": []
  }
 ],
 "metadata": {
  "kernelspec": {
   "display_name": "Python 3 (ipykernel)",
   "language": "python",
   "name": "python3"
  },
  "language_info": {
   "codemirror_mode": {
    "name": "ipython",
    "version": 3
   },
   "file_extension": ".py",
   "mimetype": "text/x-python",
   "name": "python",
   "nbconvert_exporter": "python",
   "pygments_lexer": "ipython3",
   "version": "3.12.6"
  }
 },
 "nbformat": 4,
 "nbformat_minor": 5
}
